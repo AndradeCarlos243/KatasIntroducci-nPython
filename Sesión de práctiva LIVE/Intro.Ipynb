{
 "cells": [
  {
   "cell_type": "markdown",
   "metadata": {},
   "source": [
    "# Introducción a Python\n",
    "Comenzando con los tipos de variables, los cuales python por defecto los asigna, a diferencia de otros lenguajes donde debemos especificarlos\n",
    "Los tipos de datos más comunes son:\n",
    "Enteros(Int) = 1\n",
    "Flotantes(Float) = 1.1\n",
    "String(Str) = \"Palabras\"\n"
   ]
  },
  {
   "cell_type": "code",
   "execution_count": 20,
   "metadata": {},
   "outputs": [
    {
     "data": {
      "text/plain": [
       "\"huevo = 4;\\nleche = 4.5;\\nmantequilla = 4;\\n\\nif(huevo == 3):\\n    print('la cantidad de huevio es correcta')\\nelif(leche == 1.5):\\n    print('la cantidad de leche es correcta')\\nelif(mantequilla == 1):\\n    print('la cantidad de mantequilla es correcta')\\nelse:\\n    print('REVISA TUS INGREDIENTES')\""
      ]
     },
     "execution_count": 20,
     "metadata": {},
     "output_type": "execute_result"
    }
   ],
   "source": [
    "\n",
    "# Ingredientes\n",
    "\n",
    "# huevo = 3\n",
    "# leche = 1.5\n",
    "# mantequilla = 0.045\n",
    "# harina = 3\n",
    "# cdtaVainilla = 1\n",
    "\n",
    "\"\"\"huevo = 4;\n",
    "leche = 4.5;\n",
    "mantequilla = 4;\n",
    "\n",
    "if(huevo == 3):\n",
    "    print('la cantidad de huevio es correcta')\n",
    "elif(leche == 1.5):\n",
    "    print('la cantidad de leche es correcta')\n",
    "elif(mantequilla == 1):\n",
    "    print('la cantidad de mantequilla es correcta')\n",
    "else:\n",
    "    print('REVISA TUS INGREDIENTES')\"\"\"\n"
   ]
  },
  {
   "cell_type": "markdown",
   "metadata": {},
   "source": [
    "# Variables de texto"
   ]
  },
  {
   "cell_type": "code",
   "execution_count": 21,
   "metadata": {},
   "outputs": [],
   "source": [
    "name = 'Ada Lovelance'\n",
    "# print(name.title())"
   ]
  },
  {
   "cell_type": "code",
   "execution_count": 22,
   "metadata": {},
   "outputs": [],
   "source": [
    "# print(name.upper())"
   ]
  },
  {
   "cell_type": "code",
   "execution_count": 23,
   "metadata": {},
   "outputs": [],
   "source": [
    "# print(name.lower())"
   ]
  },
  {
   "cell_type": "code",
   "execution_count": 24,
   "metadata": {},
   "outputs": [],
   "source": [
    "# print(name.islower())\n",
    "# print(name)"
   ]
  },
  {
   "cell_type": "code",
   "execution_count": 26,
   "metadata": {},
   "outputs": [
    {
     "name": "stdout",
     "output_type": "stream",
     "text": [
      "lovelace\n"
     ]
    }
   ],
   "source": [
    "last_name = '     lovelace    '\n",
    "last_name = last_name.lstrip()\n",
    "last_name = last_name.rstrip()\n",
    "print(last_name)"
   ]
  },
  {
   "cell_type": "code",
   "execution_count": 39,
   "metadata": {},
   "outputs": [
    {
     "name": "stdout",
     "output_type": "stream",
     "text": [
      "huevo\n",
      "harina\n",
      "leche\n",
      "['huevo', 'harina', 'leche', 'mantequilla']\n"
     ]
    }
   ],
   "source": [
    "ingredientes = ['huevo', 'harina','leche']\n",
    "print(ingredientes[0])\n",
    "print(ingredientes[1])\n",
    "print(ingredientes[2])\n",
    "\n",
    "ingredientes.append('mantequilla')\n",
    "print(ingredientes)"
   ]
  },
  {
   "cell_type": "code",
   "execution_count": 49,
   "metadata": {},
   "outputs": [
    {
     "name": "stdout",
     "output_type": "stream",
     "text": [
      "['huevo', 'harina', 'vainilla', 'vainilla', 'leche', 'mantequilla']\n"
     ]
    }
   ],
   "source": [
    "ingredientes.insert(2,'vainilla')\n",
    "print(ingredientes)"
   ]
  },
  {
   "cell_type": "code",
   "execution_count": 42,
   "metadata": {},
   "outputs": [
    {
     "name": "stdout",
     "output_type": "stream",
     "text": [
      "['huevo', 'harina', 'vainilla', 'leche', 'mantequilla']\n"
     ]
    }
   ],
   "source": [
    "ingredientes.pop(3)\n",
    "print(ingredientes)"
   ]
  },
  {
   "cell_type": "code",
   "execution_count": 50,
   "metadata": {},
   "outputs": [
    {
     "name": "stdout",
     "output_type": "stream",
     "text": [
      "['huevo', 'harina', 'vainilla', 'leche', 'mantequilla']\n"
     ]
    }
   ],
   "source": [
    "ingredientes.remove('vainilla')\n",
    "print(ingredientes)"
   ]
  },
  {
   "cell_type": "code",
   "execution_count": 59,
   "metadata": {},
   "outputs": [
    {
     "name": "stdout",
     "output_type": "stream",
     "text": [
      "None\n",
      "None\n",
      "5\n",
      "harina\n",
      "['vainilla', 'mantequilla']\n",
      "['vainilla', 'mantequilla', 'leche', 'huevo', 'harina']\n"
     ]
    }
   ],
   "source": [
    "sort = ingredientes.sort() \n",
    "print(sort)\n",
    "rev = ingredientes.reverse()\n",
    "print(rev)\n",
    "len = len(ingredientes)\n",
    "print(len)\n",
    "ult = ingredientes[-1]\n",
    "print(ult)\n",
    "dosp = ingredientes[:2]\n",
    "print(dosp)\n",
    "copy = ingredientes[:]\n",
    "print(copy)"
   ]
  }
 ],
 "metadata": {
  "interpreter": {
   "hash": "133840dcfc21b5ea27c6442302e8b7ddd8dffadb9dd634ecc2fbaf6f5c9ab14d"
  },
  "kernelspec": {
   "display_name": "Python 3.10.2 64-bit",
   "language": "python",
   "name": "python3"
  },
  "language_info": {
   "codemirror_mode": {
    "name": "ipython",
    "version": 3
   },
   "file_extension": ".py",
   "mimetype": "text/x-python",
   "name": "python",
   "nbconvert_exporter": "python",
   "pygments_lexer": "ipython3",
   "version": "3.10.2"
  },
  "orig_nbformat": 4
 },
 "nbformat": 4,
 "nbformat_minor": 2
}
