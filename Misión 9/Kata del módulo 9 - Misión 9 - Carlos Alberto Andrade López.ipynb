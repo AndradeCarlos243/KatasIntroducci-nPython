{
 "cells": [
  {
   "cell_type": "markdown",
   "metadata": {},
   "source": [
    "# Ejercicio: Uso de funciones en Python"
   ]
  },
  {
   "cell_type": "markdown",
   "metadata": {},
   "source": [
    "### Ejercicio 1: Trabajar con argumentos en funciones\n",
    "\n",
    "Los argumentos requeridos en las funciones se utilizan cuando las funciones necesitan que esos argumentos funcionen correctamente. En este ejercicio, construirás un informe de combustible que requiere información de varias ubicaciones de combustible en todo el cohete.\n",
    "\n"
   ]
  },
  {
   "cell_type": "markdown",
   "metadata": {},
   "source": [
    "> **TIP**\n",
    "> Dedica unos minutos para tratar de encontrar una solución. Luego desplázate hacia abajo hasta la parte inferior para ver si has logrado compilar el programa de acuerdo con las especificaciones\n",
    "\n",
    "Comienza por crear una función que necesite tres lecturas de combustible y devuelva un informe:"
   ]
  },
  {
   "cell_type": "code",
   "execution_count": 9,
   "metadata": {},
   "outputs": [],
   "source": [
    "# Función para leer 3 tanques de combustible y muestre el promedio\n",
    "def promComb(c1, c2, c3):\n",
    "    prom = (c1 + c2 + c3) / 3\n",
    "    return f\"\"\" Reporte:\n",
    "    Total en promedio = {prom}\n",
    "    Primer tanque = {c1}\n",
    "    Segundo tanque = {c2}\n",
    "    Tercer tanque = {c3}\"\"\"\n",
    "\n",
    "\n"
   ]
  },
  {
   "cell_type": "markdown",
   "metadata": {},
   "source": [
    "Ahora que hemos definido la función de informes, vamos a comprobarlo. Para esta misión, los tanques no están llenos:"
   ]
  },
  {
   "cell_type": "code",
   "execution_count": 11,
   "metadata": {},
   "outputs": [
    {
     "name": "stdout",
     "output_type": "stream",
     "text": [
      " Reporte:\n",
      "    Total en promedio = 0.0\n",
      "    Primer tanque = 0\n",
      "    Segundo tanque = 0\n",
      "    Tercer tanque = 0\n"
     ]
    }
   ],
   "source": [
    "# Llamamos a la función que genera el reporte print(funcion(tanque1, tanque2, tanque3))\n",
    "c1 = 0\n",
    "c2 = 0\n",
    "c3 = 0\n",
    "print(promComb(c1,c2,c3))"
   ]
  },
  {
   "cell_type": "markdown",
   "metadata": {},
   "source": [
    "En lugar de simplemente crear el informe, la función también está calculando el promedio. Mejora la legibilidad extrayendo el cálculo promedio de la función en una nueva función para que el promedio se pueda hacer de forma independiente:"
   ]
  },
  {
   "cell_type": "code",
   "execution_count": 13,
   "metadata": {},
   "outputs": [
    {
     "data": {
      "text/plain": [
       "21.666666666666668"
      ]
     },
     "execution_count": 13,
     "metadata": {},
     "output_type": "execute_result"
    }
   ],
   "source": [
    "# Función promedio\n",
    "c1 = 10\n",
    "c2 = 20\n",
    "c3 = 35\n",
    "def promedioSolo(lista):\n",
    "    suma = (c1 + c2 + c3)\n",
    "    total = len(lista)\n",
    "    return suma / total\n",
    "\n",
    "promedioSolo([c1,c2,c3])"
   ]
  },
  {
   "cell_type": "markdown",
   "metadata": {},
   "source": [
    "Ahora actualiza la función de informes para llamando a la nueva función del promedio:\n"
   ]
  },
  {
   "cell_type": "code",
   "execution_count": 16,
   "metadata": {},
   "outputs": [
    {
     "name": "stdout",
     "output_type": "stream",
     "text": [
      " Reporte:\n",
      "    Total en promedio = 21.666666666666668\n",
      "    Primer tanque = 10\n",
      "    Segundo tanque = 20\n",
      "    Tercer tanque = 35\n"
     ]
    }
   ],
   "source": [
    "# Actualiza la función\n",
    "def promComb(c1, c2, c3):\n",
    "    return f\"\"\" Reporte:\n",
    "    Total en promedio = {promedioSolo([c1,c2,c3])}\n",
    "    Primer tanque = {c1}\n",
    "    Segundo tanque = {c2}\n",
    "    Tercer tanque = {c3}\"\"\"\n",
    "\n",
    "print(promComb(c1,c2,c3))"
   ]
  },
  {
   "cell_type": "markdown",
   "metadata": {},
   "source": [
    "> Recuerda: Lo importante es intentarlo, puedes auxiliarte de internet, libros, etc. El objetivo de una kata es la comprobación de la comprensión de la lección y su aplicación inmediata a la resolución de problemas. Go for it!"
   ]
  },
  {
   "cell_type": "markdown",
   "metadata": {},
   "source": [
    "## Ejercicio 2: Trabajo con argumentos de palabra clave"
   ]
  },
  {
   "cell_type": "markdown",
   "metadata": {},
   "source": [
    "### Ejercicio : Trabajar con argumentos de palabras clave en funciones\n",
    "En este ejercicio, construirás un informe de cohete que requiere varias piezas de información, como el tiempo hasta el destino, el combustible a la izquierda y el nombre del destino. Comienza por crear una función que creará un informe preciso de la misión:"
   ]
  },
  {
   "cell_type": "code",
   "execution_count": 17,
   "metadata": {},
   "outputs": [
    {
     "name": "stdout",
     "output_type": "stream",
     "text": [
      " Informe:\n",
      "    Mision con destino a Tierra\n",
      "    Hora de prelanzamiento : 23\n",
      "    Tiempo de vuelo : tiempoVuelo\n",
      "    Tiempo estimado de vuelo : 73 minutos\n",
      "    Total del tanque externo : 300000\n",
      "    Total del tanque interno : 400000\n",
      "    Total de combustible restante 700000 galones\n"
     ]
    }
   ],
   "source": [
    "# Función con un informe preciso de la misión. Considera hora de prelanzamiento, tiempo de vuelo, destino, tanque externo y tanque interno\n",
    "def informeM(tiempoPrevio, tiempoVuelo, destino, tanqueExt, tanqueInt):\n",
    "    return f\"\"\" Informe:\n",
    "    Mision con destino a {destino}\n",
    "    Hora de prelanzamiento : {tiempoPrevio}\n",
    "    Tiempo de vuelo : {'tiempoVuelo'}\n",
    "    Tiempo estimado de vuelo : {tiempoPrevio + tiempoVuelo} minutos\n",
    "    Total del tanque externo : {tanqueExt}\n",
    "    Total del tanque interno : {tanqueInt}\n",
    "    Total de combustible restante {tanqueExt + tanqueInt} galones\"\"\"\n",
    "\n",
    "print(informeM(23, 50, 'Tierra', 300000, 400000))"
   ]
  },
  {
   "cell_type": "markdown",
   "metadata": {},
   "source": [
    "La función es problemática porque no se puede adaptar para minutos adicionales o tanques adicionales de combustible. Hazlo más flexible permitiendo cualquier número de pasos basados en el tiempo y cualquier número de tanques. En lugar de usar `*args` y `**kwargs`, aprovecha el hecho de que puedes usar cualquier nombre que desees. Asegurate que la función sea más legible mediante el uso de nombres de variables que están asociados con las entradas, como `*minutes` y `**fuel_reservoirs`:"
   ]
  },
  {
   "cell_type": "code",
   "execution_count": 20,
   "metadata": {},
   "outputs": [
    {
     "name": "stdout",
     "output_type": "stream",
     "text": [
      " Informe:\n",
      "    Mision con destino a Tierra\n",
      "    Tiempo estimado de vuelo : 73 minutos\n",
      "    Total de combustible restante 700000 galones\n"
     ]
    }
   ],
   "source": [
    "# Escribe tu nueva función de reporte considerando lo anterior\n",
    "\n",
    "def informeM(destino, *tiempo, **combustible):\n",
    "    return f\"\"\" Informe:\n",
    "    Mision con destino a {destino}\n",
    "    Tiempo estimado de vuelo : {sum(tiempo)} minutos\n",
    "    Total de combustible restante {sum(combustible.values())} galones\"\"\"\n",
    "\n",
    "print(informeM(\"Tierra\", 23, 50, combExt = 300000, combInt = 400000))"
   ]
  },
  {
   "cell_type": "markdown",
   "metadata": {},
   "source": [
    "Debido a que el combustible que queda en los tanques es específico de cada tanque, actualiza la función para usar el nombre de cada tanque en el informe:"
   ]
  },
  {
   "cell_type": "code",
   "execution_count": 22,
   "metadata": {},
   "outputs": [
    {
     "name": "stdout",
     "output_type": "stream",
     "text": [
      " Informe:\n",
      "    Mision con destino a Tierra\n",
      "    Tiempo estimado de vuelo : 73 minutos\n",
      "    Total de combustible restante 700000 galonestanqueExterno : 300000 galones restantes\n",
      "tanqueInterno : 400000 galones restantes\n",
      "\n"
     ]
    }
   ],
   "source": [
    "# Escribe tu nueva función\n",
    "\n",
    "def informeM(destino, *tiempo, **combustible):\n",
    "    inf = f\"\"\" Informe:\n",
    "    Mision con destino a {destino}\n",
    "    Tiempo estimado de vuelo : {sum(tiempo)} minutos\n",
    "    Total de combustible restante {sum(combustible.values())} galones\"\"\"\n",
    "\n",
    "    for nombre, galones in combustible.items():\n",
    "        inf += f\"{nombre} : {galones} galones restantes\\n\"\n",
    "\n",
    "    return inf\n",
    "\n",
    "print(informeM(\"Tierra\", 23, 50, tanqueExterno = 300000, tanqueInterno = 400000))"
   ]
  }
 ],
 "metadata": {
  "interpreter": {
   "hash": "133840dcfc21b5ea27c6442302e8b7ddd8dffadb9dd634ecc2fbaf6f5c9ab14d"
  },
  "kernelspec": {
   "display_name": "Python 3.10.2 64-bit",
   "language": "python",
   "name": "python3"
  },
  "language_info": {
   "codemirror_mode": {
    "name": "ipython",
    "version": 3
   },
   "file_extension": ".py",
   "mimetype": "text/x-python",
   "name": "python",
   "nbconvert_exporter": "python",
   "pygments_lexer": "ipython3",
   "version": "3.10.2"
  },
  "orig_nbformat": 4
 },
 "nbformat": 4,
 "nbformat_minor": 2
}
